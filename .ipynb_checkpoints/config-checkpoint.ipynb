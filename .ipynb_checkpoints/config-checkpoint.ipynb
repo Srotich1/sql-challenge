{
 "cells": [
  {
   "cell_type": "code",
   "execution_count": 1,
   "id": "7f2d2ef5",
   "metadata": {},
   "outputs": [],
   "source": [
    "\n",
    "# Enter your API key\n",
    "password= \"Kiprop02#\""
   ]
  },
  {
   "cell_type": "code",
   "execution_count": 1,
   "id": "fab95016",
   "metadata": {},
   "outputs": [],
   "source": [
    "\n",
    "username = \"ENTER YOUR USERNAME\"\n",
    "\n",
    "password = \"ENTER YOUR PASSWORD\"\n",
    "\n",
    "database = \"ENTER DATABASE NAME\" "
   ]
  },
  {
   "cell_type": "code",
   "execution_count": null,
   "id": "b36eda29",
   "metadata": {},
   "outputs": [],
   "source": []
  }
 ],
 "metadata": {
  "kernelspec": {
   "display_name": "Python 3 (ipykernel)",
   "language": "python",
   "name": "python3"
  },
  "language_info": {
   "codemirror_mode": {
    "name": "ipython",
    "version": 3
   },
   "file_extension": ".py",
   "mimetype": "text/x-python",
   "name": "python",
   "nbconvert_exporter": "python",
   "pygments_lexer": "ipython3",
   "version": "3.9.7"
  }
 },
 "nbformat": 4,
 "nbformat_minor": 5
}
